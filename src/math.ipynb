{
 "cells": [
  {
   "cell_type": "markdown",
   "id": "0f4fec5b",
   "metadata": {},
   "source": [
    "This code is to generate random math expression with a parameter \"max_depth\" that defines how deep the compositionality goes. "
   ]
  },
  {
   "cell_type": "code",
   "execution_count": null,
   "id": "33001db0",
   "metadata": {},
   "outputs": [],
   "source": [
    "import random\n",
    "from fractions import Fraction\n",
    "\n",
    "def gen_expr(num_terms, max_depth=2, current_depth=0, require_nonzero=False,\n",
    "            digit_low=0, digit_high=9, max_tries=50):\n",
    "    \"\"\"\n",
    "    Generate a random arithmetic expression AND its exact value.\n",
    "    - require_nonzero: if True, ensure the resulting value != 0 (useful when generating a denominator)\n",
    "    - digits drawn from [digit_low, digit_high]\n",
    "    Returns: (expr_str, value_as_Fraction)\n",
    "    \"\"\"\n",
    "    # Base case: single number\n",
    "    if num_terms == 1 or current_depth >= max_depth:\n",
    "        if require_nonzero:\n",
    "            # ensure nonzero leaf for denominators\n",
    "            d = random.randint(max(digit_low, 1), digit_high)\n",
    "        else:\n",
    "            d = random.randint(digit_low, digit_high)\n",
    "        return str(d), Fraction(d)\n",
    "\n",
    "    # Try multiple times to satisfy constraints\n",
    "    for _ in range(max_tries):\n",
    "        split = random.randint(1, num_terms - 1)\n",
    "        left_expr, left_val = gen_expr(num_terms, max_depth, current_depth + 1,\n",
    "                                       require_nonzero=False,\n",
    "                                       digit_low=digit_low, digit_high=digit_high,\n",
    "                                       max_tries=max_tries)\n",
    "        op = random.choice([\"+\", \"-\", \"*\", \"/\"])\n",
    "        # If op is division, the right subtree must be nonzero\n",
    "        right_expr, right_val = gen_expr(num_terms - split, max_depth, current_depth + 1,\n",
    "                                         require_nonzero=(op == \"/\"),\n",
    "                                         digit_low=digit_low, digit_high=digit_high,\n",
    "                                         max_tries=max_tries)\n",
    "\n",
    "        # Evaluate\n",
    "        if op == \"+\":\n",
    "            val = left_val + right_val\n",
    "        elif op == \"-\":\n",
    "            val = left_val - right_val\n",
    "        elif op == \"*\":\n",
    "            val = left_val * right_val\n",
    "        else:  # \"/\"\n",
    "            if right_val == 0:\n",
    "                continue  # should be prevented, but double-check\n",
    "            val = left_val / right_val\n",
    "\n",
    "        # If caller needs nonzero (e.g., we are building a denominator), enforce it\n",
    "        if require_nonzero and val == 0:\n",
    "            continue\n",
    "\n",
    "        return f\"({left_expr} {op} {right_expr})\", val\n",
    "\n",
    "    # Fallback (very unlikely): produce a simple nonzero/zero constant as needed\n",
    "    return (\"1\", Fraction(1)) if require_nonzero else (\"0\", Fraction(0))\n",
    "\n"
   ]
  },
  {
   "cell_type": "code",
   "execution_count": null,
   "id": "5d62a8e7",
   "metadata": {},
   "outputs": [
    {
     "name": "stderr",
     "output_type": "stream",
     "text": [
      "/var/folders/xx/d1sg1ttn27b9mx2r1jdfy06c0000gn/T/ipykernel_96296/84598561.py:13: DeprecationWarning: ast.Num is deprecated and will be removed in Python 3.14; use ast.Constant instead\n",
      "  NumberNode = (ast.Constant,) if hasattr(ast, \"Num\") else ()  # Py<3.8 compatibility\n"
     ]
    }
   ],
   "source": [
    "import ast \n",
    "import operator\n",
    "from fractions import Fraction\n",
    "\n",
    "Ops = {\n",
    "    ast.Add: operator.add,\n",
    "    ast.Sub: operator.sub,\n",
    "    ast.Mult: operator.mul,\n",
    "    ast.Div: operator.truediv,  # We'll convert to Fraction-safe division\n",
    "    # (No Pow, Mod, etc. on purpose)\n",
    "}\n",
    "\n",
    "NumberNode = (ast.Constant,) if hasattr(ast, \"Num\") else ()  # Py<3.8 compatibility\n",
    "\n",
    "def eval_ast(node: ast.AST) -> Fraction:\n",
    "    \"\"\"Recursively evaluate a restricted AST into a Fraction.\"\"\"\n",
    "    if isinstance(node, ast.Expression):\n",
    "        return eval_ast(node.body)\n",
    "\n",
    "    if isinstance(node, ast.Constant) and isinstance(node.value, (int, float)):\n",
    "        # Force integers; but if float shows up, convert via Fraction\n",
    "        return Fraction(node.value)\n",
    "    if NumberNode and isinstance(node, NumberNode):\n",
    "        return Fraction(node.n)\n",
    "\n",
    "    if isinstance(node, ast.BinOp) and type(node.op) in Ops:\n",
    "        left = eval_ast(node.left)\n",
    "        right = eval_ast(node.right)\n",
    "        if isinstance(node.op, ast.Div):\n",
    "            if right == 0:\n",
    "                raise ZeroDivisionError(\"Division by zero in expression\")\n",
    "            return left / right\n",
    "        return Ops[type(node.op)](left, right)\n",
    "\n",
    "    if isinstance(node, ast.UnaryOp) and isinstance(node.op, (ast.UAdd, ast.USub)):\n",
    "        val = eval_ast(node.operand)\n",
    "        return +val if isinstance(node.op, ast.UAdd) else -val\n",
    "\n",
    "    raise ValueError(f\"Unsupported expression node: {ast.dump(node)}\")\n",
    "\n",
    "def safe_eval_expr(expr: str) -> Fraction:\n",
    "    \"\"\"\n",
    "    Safely evaluate an arithmetic expression string consisting of\n",
    "    numbers, +, -, *, /, and parentheses, to a Fraction.\n",
    "    \"\"\"\n",
    "    # Parse in 'eval' mode and walk only allowed nodes\n",
    "    tree = ast.parse(expr, mode=\"eval\")\n",
    "\n",
    "    # Validate the AST contains only allowed nodes\n",
    "    allowed_nodes = (\n",
    "        ast.Expression, ast.BinOp, ast.UnaryOp, ast.Add, ast.Sub, ast.Mult, ast.Div,\n",
    "        ast.Constant, ast.Load, ast.USub, ast.UAdd\n",
    "    ) + NumberNode\n",
    "\n",
    "    for node in ast.walk(tree):\n",
    "        if not isinstance(node, allowed_nodes):\n",
    "            raise ValueError(f\"Disallowed syntax: {ast.dump(node)}\")\n",
    "\n",
    "    return eval_ast(tree.body)\n"
   ]
  },
  {
   "cell_type": "code",
   "execution_count": 41,
   "id": "0f597014",
   "metadata": {},
   "outputs": [
    {
     "name": "stdout",
     "output_type": "stream",
     "text": [
      "[('((5 / 7) - (6 + 2))', Fraction(-51, 7)), ('((0 * 2) * (0 / 5))', Fraction(0, 1)), ('((8 - 5) / (0 - 2))', Fraction(-3, 2)), ('((4 * 7) / (9 + 0))', Fraction(28, 9)), ('((6 + 4) - (4 / 7))', Fraction(66, 7)), ('((4 * 7) - (5 - 5))', Fraction(28, 1)), ('((0 + 1) + 4)', Fraction(5, 1)), ('((6 / 5) - (9 - 5))', Fraction(-14, 5)), ('((0 - 9) - (3 / 3))', Fraction(-10, 1)), ('((8 * 7) * (6 / 1))', Fraction(336, 1)), ('((4 * 8) + 4)', Fraction(36, 1)), ('((1 + 8) - (8 - 5))', Fraction(6, 1)), ('((6 * 7) + (9 + 2))', Fraction(53, 1)), ('((2 + 1) / (2 - 7))', Fraction(-3, 5)), ('((3 / 8) - (0 / 1))', Fraction(3, 8)), ('((8 / 4) - (8 / 5))', Fraction(2, 5)), ('((6 * 2) - (7 * 7))', Fraction(-37, 1)), ('((0 * 6) + (4 + 7))', Fraction(11, 1)), ('((7 * 6) * (8 * 1))', Fraction(336, 1)), ('((4 / 1) + (8 / 5))', Fraction(28, 5)), ('((2 / 2) / (8 - 3))', Fraction(1, 5)), ('((0 / 4) + 0)', Fraction(0, 1)), ('((7 * 5) * (6 / 2))', Fraction(105, 1)), ('((0 / 4) - (5 / 2))', Fraction(-5, 2)), ('((7 + 7) - (5 * 1))', Fraction(9, 1)), ('((4 * 1) - (4 + 2))', Fraction(-2, 1)), ('((6 + 8) * (3 - 3))', Fraction(0, 1)), ('((7 + 9) * (5 - 5))', Fraction(0, 1)), ('((0 - 0) * (6 * 4))', Fraction(0, 1)), ('((2 / 6) + 1)', Fraction(4, 3)), ('((2 * 3) + (9 + 7))', Fraction(22, 1)), ('((3 - 5) * (5 + 0))', Fraction(-10, 1)), ('((7 / 2) * 0)', Fraction(0, 1)), ('((2 + 5) + (5 / 6))', Fraction(47, 6)), ('((3 / 3) * 0)', Fraction(0, 1)), ('((2 / 6) * 8)', Fraction(8, 3)), ('((0 - 6) / (0 - 6))', Fraction(1, 1)), ('((0 - 3) * (7 / 1))', Fraction(-21, 1)), ('((4 - 4) * 8)', Fraction(0, 1)), ('((4 / 4) / (0 - 6))', Fraction(-1, 6)), ('((5 / 1) - (2 + 8))', Fraction(-5, 1)), ('((1 + 9) + (4 * 2))', Fraction(18, 1)), ('((0 - 9) / (4 - 8))', Fraction(9, 4)), ('((1 * 8) + 3)', Fraction(11, 1)), ('((3 - 7) - (4 * 8))', Fraction(-36, 1)), ('((2 + 9) + (6 - 2))', Fraction(15, 1)), ('((2 / 5) - (2 + 4))', Fraction(-28, 5)), ('((7 + 1) - (8 + 0))', Fraction(0, 1)), ('((1 + 7) - 3)', Fraction(5, 1)), ('((4 * 3) / 6)', Fraction(2, 1))]\n",
      "((5 / 7) - (6 + 2)) + ((0 * 2) * (0 / 5)) + ((8 - 5) / (0 - 2)) + ((4 * 7) / (9 + 0)) + ((6 + 4) - (4 / 7)) + ((4 * 7) - (5 - 5)) + ((0 + 1) + 4) + ((6 / 5) - (9 - 5)) + ((0 - 9) - (3 / 3)) + ((8 * 7) * (6 / 1)) + ((4 * 8) + 4) + ((1 + 8) - (8 - 5)) + ((6 * 7) + (9 + 2)) + ((2 + 1) / (2 - 7)) + ((3 / 8) - (0 / 1)) + ((8 / 4) - (8 / 5)) + ((6 * 2) - (7 * 7)) + ((0 * 6) + (4 + 7)) + ((7 * 6) * (8 * 1)) + ((4 / 1) + (8 / 5)) + ((2 / 2) / (8 - 3)) + ((0 / 4) + 0) + ((7 * 5) * (6 / 2)) + ((0 / 4) - (5 / 2)) + ((7 + 7) - (5 * 1)) + ((4 * 1) - (4 + 2)) + ((6 + 8) * (3 - 3)) + ((7 + 9) * (5 - 5)) + ((0 - 0) * (6 * 4)) + ((2 / 6) + 1) + ((2 * 3) + (9 + 7)) + ((3 - 5) * (5 + 0)) + ((7 / 2) * 0) + ((2 + 5) + (5 / 6)) + ((3 / 3) * 0) + ((2 / 6) * 8) + ((0 - 6) / (0 - 6)) + ((0 - 3) * (7 / 1)) + ((4 - 4) * 8) + ((4 / 4) / (0 - 6)) + ((5 / 1) - (2 + 8)) + ((1 + 9) + (4 * 2)) + ((0 - 9) / (4 - 8)) + ((1 * 8) + 3) + ((3 - 7) - (4 * 8)) + ((2 + 9) + (6 - 2)) + ((2 / 5) - (2 + 4)) + ((7 + 1) - (8 + 0)) + ((1 + 7) - 3) + ((4 * 3) / 6)\n",
      "2244679/2520\n"
     ]
    }
   ],
   "source": [
    "\n",
    "expr = [gen_expr(num_terms=10, max_depth=2) for _ in range(50)]\n",
    "print(expr)\n",
    "# I want to join with a random operator\n",
    "final_expr = \" + \".join(expr[i][0] for i in range(len(expr)))\n",
    "print(final_expr)\n",
    "res = safe_eval_expr(final_expr)\n",
    "print(res)"
   ]
  },
  {
   "cell_type": "code",
   "execution_count": 34,
   "id": "b46bc39f",
   "metadata": {},
   "outputs": [
    {
     "name": "stdout",
     "output_type": "stream",
     "text": [
      "(((((((4 * 8) - (3 - 7)) + ((9 + 1) + (6 - 8))) / (((4 + 7) * (2 + 1)) / ((4 * 7) - (4 + 0)))) + ((((2 + 5) / (7 - 3)) / ((8 + 1) - (4 - 5))) - (((2 - 5) / (5 + 4)) - ((5 / 2) / (3 + 7))))) - (((((7 + 4) / (4 + 1)) / ((5 * 6) + (8 + 9))) / (((4 - 7) - 0) / 9)) - ((((7 * 1) * (9 + 6)) + ((0 / 7) * (0 * 1))) / 1))) - ((((((6 * 8) + (3 - 9)) - ((0 - 7) / (8 / 2))) + (((4 * 5) - (2 + 4)) - ((3 / 8) * (2 - 8)))) / ((((5 / 8) + (9 - 3)) * ((4 + 3) / (3 - 2))) + (((2 * 3) * (0 - 9)) / ((1 / 2) - (7 - 2))))) / (((((5 + 4) / (6 * 7)) - ((9 * 4) + (7 - 3))) + (((5 + 4) - (8 - 2)) / ((4 - 6) / 7))) - ((((4 * 7) / (3 * 8)) * ((8 - 4) / (1 - 9))) - (((4 + 7) * (6 / 5)) - ((8 * 4) - (0 / 2)))))))\n",
      "10451016919693/75779361480\n",
      "10451016919693/75779361480\n"
     ]
    }
   ],
   "source": [
    "expr2 = [gen_expr(num_terms=1500, max_depth=7)]\n",
    "print(expr2[0][0])\n",
    "print(expr2[0][1])\n",
    "res = safe_eval_expr(expr2[0][0])\n",
    "print(res)"
   ]
  }
 ],
 "metadata": {
  "kernelspec": {
   "display_name": "pfcg_transformer",
   "language": "python",
   "name": "python3"
  },
  "language_info": {
   "codemirror_mode": {
    "name": "ipython",
    "version": 3
   },
   "file_extension": ".py",
   "mimetype": "text/x-python",
   "name": "python",
   "nbconvert_exporter": "python",
   "pygments_lexer": "ipython3",
   "version": "3.13.3"
  }
 },
 "nbformat": 4,
 "nbformat_minor": 5
}
