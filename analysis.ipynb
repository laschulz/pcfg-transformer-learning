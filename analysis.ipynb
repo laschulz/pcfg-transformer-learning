{
 "cells": [
  {
   "cell_type": "code",
   "execution_count": null,
   "id": "2c822574",
   "metadata": {},
   "outputs": [
    {
     "ename": "",
     "evalue": "",
     "output_type": "error",
     "traceback": [
      "\u001b[1;31mRunning cells with 'pfcg_transformer (Python 3.13.3)' requires the ipykernel package.\n",
      "\u001b[1;31m<a href='command:jupyter.createPythonEnvAndSelectController'>Create a Python Environment</a> with the required packages.\n",
      "\u001b[1;31mOr install 'ipykernel' using the command: 'conda install -n pfcg_transformer ipykernel --update-deps --force-reinstall'"
     ]
    }
   ],
   "source": [
    "import os\n",
    "import json\n",
    "\n",
    "def average_string_length_per_file(folder_path, text_key=\"text\"):\n",
    "    for filename in os.listdir(folder_path):\n",
    "        if not filename.endswith(\".json\") and not filename.endswith(\".jsonl\"):\n",
    "            continue\n",
    "        file_path = os.path.join(folder_path, filename)\n",
    "        total_words = 0\n",
    "        total_entries = 0\n",
    "\n",
    "        with open(file_path, 'r', encoding='utf-8') as f:\n",
    "            for line in f:\n",
    "                try:\n",
    "                    data = json.loads(line)\n",
    "                    text = data.get(text_key, \"\")\n",
    "                    word_count = len(text.strip().split())\n",
    "                    total_words += word_count\n",
    "                    total_entries += 1\n",
    "                except json.JSONDecodeError:\n",
    "                    continue\n",
    "\n",
    "        avg = total_words / total_entries if total_entries else 0\n",
    "        print(f\"{filename}: average word count = {avg:.2f}\")\n"
   ]
  },
  {
   "cell_type": "code",
   "execution_count": null,
   "id": "1319bc42",
   "metadata": {},
   "outputs": [],
   "source": [
    "average_string_length_per_file(\"/path/to/folder\")"
   ]
  }
 ],
 "metadata": {
  "kernelspec": {
   "display_name": "pfcg_transformer",
   "language": "python",
   "name": "python3"
  },
  "language_info": {
   "name": "python",
   "version": "3.13.3"
  }
 },
 "nbformat": 4,
 "nbformat_minor": 5
}
